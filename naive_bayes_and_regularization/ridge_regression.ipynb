{
 "cells": [
  {
   "cell_type": "markdown",
   "metadata": {},
   "source": [
    "### Install Required Packages"
   ]
  },
  {
   "cell_type": "code",
   "execution_count": 1,
   "metadata": {
    "pycharm": {
     "name": "#%%\n"
    }
   },
   "outputs": [
    {
     "name": "stdout",
     "output_type": "stream",
     "text": [
      "Requirement already satisfied: numpy in /home/vangelis/.local/share/virtualenvs/machine-learning-msc-sNBHIkKd/lib/python3.8/site-packages (1.20.2)\r\n",
      "Requirement already satisfied: pandas in /home/vangelis/.local/share/virtualenvs/machine-learning-msc-sNBHIkKd/lib/python3.8/site-packages (1.2.4)\r\n",
      "Requirement already satisfied: sklearn in /home/vangelis/.local/share/virtualenvs/machine-learning-msc-sNBHIkKd/lib/python3.8/site-packages (0.0)\r\n",
      "Requirement already satisfied: python-dateutil>=2.7.3 in /home/vangelis/.local/share/virtualenvs/machine-learning-msc-sNBHIkKd/lib/python3.8/site-packages (from pandas) (2.8.1)\r\n",
      "Requirement already satisfied: pytz>=2017.3 in /home/vangelis/.local/share/virtualenvs/machine-learning-msc-sNBHIkKd/lib/python3.8/site-packages (from pandas) (2021.1)\r\n",
      "Requirement already satisfied: six>=1.5 in /home/vangelis/.local/share/virtualenvs/machine-learning-msc-sNBHIkKd/lib/python3.8/site-packages (from python-dateutil>=2.7.3->pandas) (1.15.0)\r\n",
      "Requirement already satisfied: scikit-learn in /home/vangelis/.local/share/virtualenvs/machine-learning-msc-sNBHIkKd/lib/python3.8/site-packages (from sklearn) (0.24.1)\r\n",
      "Requirement already satisfied: threadpoolctl>=2.0.0 in /home/vangelis/.local/share/virtualenvs/machine-learning-msc-sNBHIkKd/lib/python3.8/site-packages (from scikit-learn->sklearn) (2.1.0)\r\n",
      "Requirement already satisfied: joblib>=0.11 in /home/vangelis/.local/share/virtualenvs/machine-learning-msc-sNBHIkKd/lib/python3.8/site-packages (from scikit-learn->sklearn) (1.0.1)\r\n",
      "Requirement already satisfied: scipy>=0.19.1 in /home/vangelis/.local/share/virtualenvs/machine-learning-msc-sNBHIkKd/lib/python3.8/site-packages (from scikit-learn->sklearn) (1.6.2)\r\n"
     ]
    }
   ],
   "source": [
    "! pip install numpy pandas sklearn"
   ]
  },
  {
   "cell_type": "markdown",
   "metadata": {},
   "source": [
    "### Imports"
   ]
  },
  {
   "cell_type": "code",
   "execution_count": 2,
   "metadata": {
    "pycharm": {
     "name": "#%%\n"
    }
   },
   "outputs": [],
   "source": [
    "import pandas as pd\n",
    "import numpy as np\n",
    "import matplotlib.pyplot as plt\n",
    "\n",
    "from sklearn.metrics import mean_squared_error\n"
   ]
  },
  {
   "cell_type": "markdown",
   "metadata": {},
   "source": [
    "### Plot helper methods"
   ]
  },
  {
   "cell_type": "code",
   "execution_count": 3,
   "metadata": {
    "pycharm": {
     "name": "#%%\n"
    }
   },
   "outputs": [],
   "source": [
    "def plot_coeffs(lambdas, coeffs):\n",
    "    ax = plt.gca()\n",
    "\n",
    "    coeffs = np.reshape(coeffs, (len(coeffs), 9))\n",
    "\n",
    "    ax.plot(lambdas, coeffs)\n",
    "    ax.set_xscale('log')\n",
    "    plt.xlabel('lambda')\n",
    "    plt.ylabel('coefficients')\n",
    "    plt.title('Ridge coefficients as a function of the regularization')\n",
    "    plt.axis('tight')\n",
    "    plt.show()\n",
    "\n",
    "\n",
    "def plot_rmse(lambdas, rmse):\n",
    "    ax = plt.gca()\n",
    "\n",
    "    ax.plot(lambdas, rmse)\n",
    "    ax.set_xscale('log')\n",
    "    plt.xlabel('Lambda')\n",
    "    plt.ylabel('RMSE')\n",
    "    plt.title('Root Mean Squared Error')\n",
    "    plt.axis('tight')\n",
    "    plt.show()"
   ]
  },
  {
   "cell_type": "markdown",
   "metadata": {},
   "source": [
    "### Imports"
   ]
  },
  {
   "cell_type": "code",
   "execution_count": 4,
   "metadata": {
    "pycharm": {
     "name": "#%%\n"
    }
   },
   "outputs": [],
   "source": [
    "class CustomRidgeRegression:\n",
    "    def __init__(self):\n",
    "        self.coeffs_ = None\n",
    "        self.lambda_ = None\n",
    "\n",
    "    def fit(self, X, y, lambda_parameter):\n",
    "        \"\"\"\n",
    "        Fits the Linear Regression model\n",
    "        :param X: dataframe contains the observations\n",
    "        :param y: dataframe contains the target values\n",
    "        \"\"\"\n",
    "        X = X.to_numpy()\n",
    "        y = y.to_numpy()\n",
    "\n",
    "        self.lambda_ = lambda_parameter\n",
    "\n",
    "        # Append an extra column with ones to X (intercept)\n",
    "        X_with_intercept = np.c_[np.ones((X.shape[0], 1)), X]\n",
    "\n",
    "        identity = np.identity(X_with_intercept.shape[1])\n",
    "        identity[0, 0] = 0\n",
    "\n",
    "        I_lambda = self.lambda_ * identity\n",
    "\n",
    "        self.coeffs_ = np.linalg.inv(X_with_intercept.T.dot(X_with_intercept) + I_lambda).dot(X_with_intercept.T).dot(y)\n",
    "\n",
    "    def predict(self, X):\n",
    "        \"\"\"\n",
    "        Predicts the values of the given data\n",
    "        :param X: dataframe contains the observations to predict\n",
    "        :return The predicted value\n",
    "        \"\"\"\n",
    "        X = X.to_numpy()\n",
    "        n = X.shape[0]\n",
    "\n",
    "        # Append an extra column with ones to X\n",
    "        X_with_intercept = np.c_[np.ones((X.shape[0], 1)), X]\n",
    "        return np.dot(X_with_intercept, self.coeffs_)"
   ]
  },
  {
   "cell_type": "markdown",
   "metadata": {},
   "source": [
    "### Read data and split dataset to train and test"
   ]
  },
  {
   "cell_type": "code",
   "execution_count": 5,
   "metadata": {
    "pycharm": {
     "name": "#%%\n"
    }
   },
   "outputs": [
    {
     "name": "stdout",
     "output_type": "stream",
     "text": [
      "    id    lcavol    weight  age      lbph  svi       lcp  gleason  pgg45  \\\n",
      "0    1 -0.579818  2.769459   50 -1.386294    0 -1.386294        6      0   \n",
      "1    2 -0.994252  3.319626   58 -1.386294    0 -1.386294        6      0   \n",
      "2    3 -0.510826  2.691243   74 -1.386294    0 -1.386294        7     20   \n",
      "3    4 -1.203973  3.282789   58 -1.386294    0 -1.386294        6      0   \n",
      "4    5  0.751416  3.432373   62 -1.386294    0 -1.386294        6      0   \n",
      "..  ..       ...       ...  ...       ...  ...       ...      ...    ...   \n",
      "92  93  2.830268  3.876396   68 -1.386294    1  1.321756        7     60   \n",
      "93  94  3.821004  3.896909   44 -1.386294    1  2.169054        7     40   \n",
      "94  95  2.907447  3.396185   52 -1.386294    1  2.463853        7     10   \n",
      "95  96  2.882564  3.773910   68  1.558145    1  1.558145        7     80   \n",
      "96  97  3.471966  3.974998   68  0.438255    1  2.904165        7     20   \n",
      "\n",
      "        lpsa train  \n",
      "0  -0.430783     T  \n",
      "1  -0.162519     T  \n",
      "2  -0.162519     T  \n",
      "3  -0.162519     T  \n",
      "4   0.371564     T  \n",
      "..       ...   ...  \n",
      "92  4.385147     T  \n",
      "93  4.684443     T  \n",
      "94  5.143124     F  \n",
      "95  5.477509     T  \n",
      "96  5.582932     F  \n",
      "\n",
      "[97 rows x 11 columns]\n"
     ]
    }
   ],
   "source": [
    "df = pd.read_csv('datasets/rr/prostate.data', header=0, sep='\\t')\n",
    "df.columns = ['id', 'lcavol', 'weight', 'age', 'lbph', 'svi', 'lcp', 'gleason', 'pgg45', 'lpsa', 'train']\n",
    "print(df)\n",
    "\n",
    "train_df = df[df['train'] == 'T']\n",
    "test_df = df[df['train'] == 'F']\n",
    "\n",
    "X_train = train_df[['lcavol', 'weight', 'age', 'lbph', 'svi', 'lcp', 'gleason', 'pgg45']]\n",
    "X_test = test_df[['lcavol', 'weight', 'age', 'lbph', 'svi', 'lcp', 'gleason', 'pgg45']]\n",
    "y_train = train_df[['lpsa']]\n",
    "y_test = test_df[['lpsa']]\n",
    "\n",
    "coeffs = []\n",
    "rmse = []"
   ]
  },
  {
   "cell_type": "markdown",
   "metadata": {},
   "source": [
    "### Train Ridge Regression Model with l = [0.002, 2.0] with step 0.004 and l = 10000"
   ]
  },
  {
   "cell_type": "code",
   "execution_count": 6,
   "metadata": {
    "pycharm": {
     "name": "#%%\n"
    }
   },
   "outputs": [],
   "source": [
    "rr = CustomRidgeRegression()\n",
    "\n",
    "lambdas = np.arange(0.002, 2.0, 0.004)\n",
    "for i in lambdas:\n",
    "    rr.fit(X_train, y_train, i)\n",
    "    coeffs.append(rr.coeffs_.tolist())\n",
    "    y_pred = rr.predict(X_test)\n",
    "    rmse.append(mean_squared_error(y_test, y_pred, squared=True))\n",
    "\n",
    "rr.fit(X_train, y_train, 10000)\n",
    "coeffs.append(rr.coeffs_.tolist())\n",
    "lambdas = np.append(lambdas, 10000.0)\n",
    "y_pred = rr.predict(X_test)\n",
    "rmse.append(mean_squared_error(y_test, y_pred, squared=True))"
   ]
  },
  {
   "cell_type": "markdown",
   "metadata": {},
   "source": [
    "### Find l that minimizes the Root Mean Square Error"
   ]
  },
  {
   "cell_type": "code",
   "execution_count": 7,
   "metadata": {
    "pycharm": {
     "name": "#%%\n"
    }
   },
   "outputs": [
    {
     "name": "stdout",
     "output_type": "stream",
     "text": [
      "0.354\n",
      "[[0.4939205964598763], [0.576747003107279], [0.5993205294774145], [-0.018674384427299545], [0.1453820370773281], [0.6983674176460376], [-0.19718780977168418], [-0.03293609509756401], [0.009497899097753473]]\n",
      "0.5211839118146687\n"
     ]
    },
    {
     "data": {
      "image/png": "[encoded data removed]",
      "text/plain": [
       "<Figure size 432x288 with 1 Axes>"
      ]
     },
     "metadata": {
      "needs_background": "light"
     },
     "output_type": "display_data"
    },
    {
     "data": {
      "image/png": "[encoded data removed]",
      "text/plain": [
       "<Figure size 432x288 with 1 Axes>"
      ]
     },
     "metadata": {
      "needs_background": "light"
     },
     "output_type": "display_data"
    }
   ],
   "source": [
    "idx = rmse.index(min(rmse))\n",
    "print(lambdas[idx])\n",
    "print(coeffs[idx])\n",
    "print(min(rmse))\n",
    "\n",
    "plot_coeffs(lambdas, coeffs)\n",
    "plot_rmse(lambdas, rmse)"
   ]
  },
  {
   "cell_type": "markdown",
   "metadata": {},
   "source": [
    "### For the minimum l, plot the predicted values contrary to real values"
   ]
  },
  {
   "cell_type": "code",
   "execution_count": 8,
   "metadata": {
    "pycharm": {
     "name": "#%%\n"
    }
   },
   "outputs": [],
   "source": [
    "# rr.fit(X_train, y_train, 0.922)\n",
    "# y_pred = rr.predict(X_test)\n",
    "# print(y_pred)\n",
    "# print(rr.coeffs_)\n"
   ]
  },
  {
   "cell_type": "markdown",
   "metadata": {},
   "source": [
    "### Comparison between Ridge Regression and Linear Regression"
   ]
  },
  {
   "cell_type": "code",
   "execution_count": null,
   "metadata": {
    "pycharm": {
     "name": "#%%\n"
    }
   },
   "outputs": [],
   "source": []
  }
 ],
 "metadata": {
  "kernelspec": {
   "display_name": "Python 3",
   "language": "python",
   "name": "python3"
  },
  "language_info": {
   "codemirror_mode": {
    "name": "ipython",
    "version": 3
   },
   "file_extension": ".py",
   "mimetype": "text/x-python",
   "name": "python",
   "nbconvert_exporter": "python",
   "pygments_lexer": "ipython3",
   "version": "3.8.5"
  }
 },
 "nbformat": 4,
 "nbformat_minor": 1
}

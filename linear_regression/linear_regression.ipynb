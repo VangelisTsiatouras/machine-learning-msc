{
 "cells": [
  {
   "cell_type": "markdown",
   "metadata": {
    "collapsed": true,
    "pycharm": {
     "name": "#%% md\n"
    }
   },
   "source": [
    "### Install Required Packages"
   ]
  },
  {
   "cell_type": "code",
   "execution_count": 1,
   "metadata": {
    "pycharm": {
     "name": "#%%\n"
    }
   },
   "outputs": [
    {
     "name": "stdout",
     "output_type": "stream",
     "text": [
      "Requirement already satisfied: numpy in /home/vangelis/.local/share/virtualenvs/machine-learning-msc-sNBHIkKd/lib/python3.8/site-packages (1.20.1)\n",
      "Requirement already satisfied: pandas in /home/vangelis/.local/share/virtualenvs/machine-learning-msc-sNBHIkKd/lib/python3.8/site-packages (1.2.3)\n",
      "Requirement already satisfied: sklearn in /home/vangelis/.local/share/virtualenvs/machine-learning-msc-sNBHIkKd/lib/python3.8/site-packages (0.0)\n",
      "Requirement already satisfied: seaborn in /home/vangelis/.local/share/virtualenvs/machine-learning-msc-sNBHIkKd/lib/python3.8/site-packages (0.11.1)\n",
      "Requirement already satisfied: pytz>=2017.3 in /home/vangelis/.local/share/virtualenvs/machine-learning-msc-sNBHIkKd/lib/python3.8/site-packages (from pandas) (2021.1)\n",
      "Requirement already satisfied: python-dateutil>=2.7.3 in /home/vangelis/.local/share/virtualenvs/machine-learning-msc-sNBHIkKd/lib/python3.8/site-packages (from pandas) (2.8.1)\n",
      "Requirement already satisfied: six>=1.5 in /home/vangelis/.local/share/virtualenvs/machine-learning-msc-sNBHIkKd/lib/python3.8/site-packages (from python-dateutil>=2.7.3->pandas) (1.15.0)\n",
      "Requirement already satisfied: matplotlib>=2.2 in /home/vangelis/.local/share/virtualenvs/machine-learning-msc-sNBHIkKd/lib/python3.8/site-packages (from seaborn) (3.3.4)\n",
      "Requirement already satisfied: scipy>=1.0 in /home/vangelis/.local/share/virtualenvs/machine-learning-msc-sNBHIkKd/lib/python3.8/site-packages (from seaborn) (1.6.1)\n",
      "Requirement already satisfied: kiwisolver>=1.0.1 in /home/vangelis/.local/share/virtualenvs/machine-learning-msc-sNBHIkKd/lib/python3.8/site-packages (from matplotlib>=2.2->seaborn) (1.3.1)\n",
      "Requirement already satisfied: cycler>=0.10 in /home/vangelis/.local/share/virtualenvs/machine-learning-msc-sNBHIkKd/lib/python3.8/site-packages (from matplotlib>=2.2->seaborn) (0.10.0)\n",
      "Requirement already satisfied: pyparsing!=2.0.4,!=2.1.2,!=2.1.6,>=2.0.3 in /home/vangelis/.local/share/virtualenvs/machine-learning-msc-sNBHIkKd/lib/python3.8/site-packages (from matplotlib>=2.2->seaborn) (2.4.7)\n",
      "Requirement already satisfied: pillow>=6.2.0 in /home/vangelis/.local/share/virtualenvs/machine-learning-msc-sNBHIkKd/lib/python3.8/site-packages (from matplotlib>=2.2->seaborn) (8.1.2)\n",
      "Requirement already satisfied: scikit-learn in /home/vangelis/.local/share/virtualenvs/machine-learning-msc-sNBHIkKd/lib/python3.8/site-packages (from sklearn) (0.24.1)\n",
      "Requirement already satisfied: joblib>=0.11 in /home/vangelis/.local/share/virtualenvs/machine-learning-msc-sNBHIkKd/lib/python3.8/site-packages (from scikit-learn->sklearn) (1.0.1)\n",
      "Requirement already satisfied: threadpoolctl>=2.0.0 in /home/vangelis/.local/share/virtualenvs/machine-learning-msc-sNBHIkKd/lib/python3.8/site-packages (from scikit-learn->sklearn) (2.1.0)\n"
     ]
    }
   ],
   "source": [
    "\n",
    "! pip install numpy pandas sklearn seaborn"
   ]
  },
  {
   "cell_type": "markdown",
   "metadata": {},
   "source": [
    "### Imports"
   ]
  },
  {
   "cell_type": "code",
   "execution_count": 2,
   "metadata": {
    "pycharm": {
     "name": "#%%\n"
    }
   },
   "outputs": [],
   "source": [
    "import math\n",
    "import numpy as np\n",
    "import pandas as pd\n",
    "import seaborn as sns\n",
    "import matplotlib.pyplot as plt\n",
    "\n",
    "from sklearn.datasets import load_boston\n",
    "from sklearn.model_selection import train_test_split\n",
    "from sklearn.metrics import r2_score\n",
    "from sklearn.linear_model import LinearRegression\n",
    "\n",
    "%matplotlib inline"
   ]
  },
  {
   "cell_type": "markdown",
   "metadata": {
    "pycharm": {
     "name": "#%% md\n"
    }
   },
   "source": [
    "### Dataset import and exploration"
   ]
  },
  {
   "cell_type": "code",
   "execution_count": 3,
   "metadata": {
    "pycharm": {
     "name": "#%%\n"
    }
   },
   "outputs": [
    {
     "name": "stdout",
     "output_type": "stream",
     "text": [
      "        CRIM    ZN  INDUS  CHAS    NOX     RM   AGE     DIS  RAD    TAX  \\\n",
      "0    0.00632  18.0   2.31   0.0  0.538  6.575  65.2  4.0900  1.0  296.0   \n",
      "1    0.02731   0.0   7.07   0.0  0.469  6.421  78.9  4.9671  2.0  242.0   \n",
      "2    0.02729   0.0   7.07   0.0  0.469  7.185  61.1  4.9671  2.0  242.0   \n",
      "3    0.03237   0.0   2.18   0.0  0.458  6.998  45.8  6.0622  3.0  222.0   \n",
      "4    0.06905   0.0   2.18   0.0  0.458  7.147  54.2  6.0622  3.0  222.0   \n",
      "..       ...   ...    ...   ...    ...    ...   ...     ...  ...    ...   \n",
      "501  0.06263   0.0  11.93   0.0  0.573  6.593  69.1  2.4786  1.0  273.0   \n",
      "502  0.04527   0.0  11.93   0.0  0.573  6.120  76.7  2.2875  1.0  273.0   \n",
      "503  0.06076   0.0  11.93   0.0  0.573  6.976  91.0  2.1675  1.0  273.0   \n",
      "504  0.10959   0.0  11.93   0.0  0.573  6.794  89.3  2.3889  1.0  273.0   \n",
      "505  0.04741   0.0  11.93   0.0  0.573  6.030  80.8  2.5050  1.0  273.0   \n",
      "\n",
      "     PTRATIO       B  LSTAT  \n",
      "0       15.3  396.90   4.98  \n",
      "1       17.8  396.90   9.14  \n",
      "2       17.8  392.83   4.03  \n",
      "3       18.7  394.63   2.94  \n",
      "4       18.7  396.90   5.33  \n",
      "..       ...     ...    ...  \n",
      "501     21.0  391.99   9.67  \n",
      "502     21.0  396.90   9.08  \n",
      "503     21.0  396.90   5.64  \n",
      "504     21.0  393.45   6.48  \n",
      "505     21.0  396.90   7.88  \n",
      "\n",
      "[506 rows x 13 columns]\n",
      "        0\n",
      "0    24.0\n",
      "1    21.6\n",
      "2    34.7\n",
      "3    33.4\n",
      "4    36.2\n",
      "..    ...\n",
      "501  22.4\n",
      "502  20.6\n",
      "503  23.9\n",
      "504  22.0\n",
      "505  11.9\n",
      "\n",
      "[506 rows x 1 columns]\n"
     ]
    },
    {
     "data": {
      "image/png": "[encoded data removed]",
      "text/plain": [
       "<Figure size 842.4x595.44 with 1 Axes>"
      ]
     },
     "metadata": {},
     "output_type": "display_data"
    }
   ],
   "source": [
    "boston_dataset = load_boston()\n",
    "boston_X_df = pd.DataFrame(boston_dataset.data, columns=boston_dataset.feature_names)\n",
    "boston_y_df = pd.DataFrame(boston_dataset.target)\n",
    "print(boston_X_df)\n",
    "print(boston_y_df)\n",
    "\n",
    "sns.set(rc={'figure.figsize':(11.7,8.27)})\n",
    "sns.histplot(boston_y_df, bins=30, kde=True)\n",
    "plt.show()"
   ]
  },
  {
   "cell_type": "markdown",
   "metadata": {
    "pycharm": {
     "name": "#%% md\n"
    }
   },
   "source": [
    "### Model definition"
   ]
  },
  {
   "cell_type": "code",
   "execution_count": 4,
   "metadata": {
    "pycharm": {
     "name": "#%%\n"
    }
   },
   "outputs": [],
   "source": [
    "class MultipleLinearRegression:\n",
    "\n",
    "    def __init__(self):\n",
    "        self.coefs_ = None\n",
    "\n",
    "    def fit(self, X: pd.DataFrame, y: pd.DataFrame):\n",
    "        \"\"\"\n",
    "        Fits the Linear Regression model\n",
    "        :param X: dataframe contains the observations\n",
    "        :param y: dataframe contains the target values\n",
    "        \"\"\"\n",
    "        X = X.to_numpy()\n",
    "        y = y.to_numpy()\n",
    "\n",
    "        n = X.shape[0]\n",
    "        print(f'Number of observations {n}')\n",
    "\n",
    "        # Append an extra column with ones to X\n",
    "        ones_array = np.ones((n,1))\n",
    "        X = np.hstack((ones_array, X))\n",
    "\n",
    "        # Calculate (X'X)\n",
    "        X_transpose = np.transpose(X)\n",
    "        X_transpose_X = np.dot(X_transpose, X)\n",
    "\n",
    "        # Calculate the b = (X^T X)^-1 X^T Y\n",
    "        inv_X_transponse_X = np.linalg.inv(X_transpose_X)\n",
    "        self.coefs_ = np.dot(np.dot(inv_X_transponse_X, X_transpose), y)\n",
    "\n",
    "    def predict(self, X: pd.DataFrame):\n",
    "        \"\"\"\n",
    "        Predicts the values of the given data\n",
    "        :param X: dataframe contains the observations to predict\n",
    "        :return The predicted value\n",
    "        \"\"\"\n",
    "        X = X.to_numpy()\n",
    "        n = X.shape[0]\n",
    "\n",
    "        # Append an extra column with ones to X\n",
    "        ones_array = np.ones((n,1))\n",
    "        X = np.hstack((ones_array, X))\n",
    "        return np.dot(X, self.coefs_)"
   ]
  },
  {
   "cell_type": "markdown",
   "metadata": {
    "pycharm": {
     "name": "#%% md\n"
    }
   },
   "source": [
    "## Helper functions"
   ]
  },
  {
   "cell_type": "code",
   "execution_count": 5,
   "metadata": {
    "pycharm": {
     "name": "#%%\n"
    }
   },
   "outputs": [],
   "source": [
    "def rss(y_true, y_pred):\n",
    "    \"\"\"\n",
    "    Calculates the Residual Sum of Squares\n",
    "    :param y_true: The true values\n",
    "    :param y_pred: The predicted values\n",
    "    :return: RSS\n",
    "    \"\"\"\n",
    "    y_true = np.array(y_true)\n",
    "    y_pred = np.array(y_pred)\n",
    "    return np.sum((y_true - y_pred) ** 2, dtype=np.float64)\n",
    "\n",
    "def print_stats(y_true, y_pred):\n",
    "    rss_ = rss(y_true, y_pred)\n",
    "    rse = math.sqrt(rss_/(y_true.shape[0]-2))\n",
    "    r2 = r2_score(y_true, y_pred)\n",
    "    print(f'rss: {rss_}\\nrse: {rse}\\nr2 score: {r2}\\n')"
   ]
  },
  {
   "cell_type": "markdown",
   "metadata": {},
   "source": [
    "### Split & train the model"
   ]
  },
  {
   "cell_type": "code",
   "execution_count": 6,
   "metadata": {
    "pycharm": {
     "name": "#%%\n"
    }
   },
   "outputs": [
    {
     "name": "stdout",
     "output_type": "stream",
     "text": [
      "Number of observations 455\n",
      "Bias:\n",
      "[36.73146277]\n",
      "\n",
      "Coefficients:\n",
      "[[-1.19886262e-01]\n",
      " [ 3.99134691e-02]\n",
      " [ 2.12938504e-02]\n",
      " [ 2.77565167e+00]\n",
      " [-1.85854960e+01]\n",
      " [ 3.75579160e+00]\n",
      " [ 4.57076424e-03]\n",
      " [-1.47064595e+00]\n",
      " [ 3.11878023e-01]\n",
      " [-1.18109903e-02]\n",
      " [-9.47556337e-01]\n",
      " [ 1.03287982e-02]\n",
      " [-5.50096256e-01]]\n",
      "\n",
      "=== Stats for y_test ===\n"
     ]
    },
    {
     "ename": "ValueError",
     "evalue": "the 'dtype' parameter is not supported in the pandas implementation of sum()",
     "output_type": "error",
     "traceback": [
      "\u001B[0;31m---------------------------------------------------------------------------\u001B[0m",
      "\u001B[0;31mValueError\u001B[0m                                Traceback (most recent call last)",
      "\u001B[0;32m<ipython-input-6-428dfe2eae9f>\u001B[0m in \u001B[0;36m<module>\u001B[0;34m\u001B[0m\n\u001B[1;32m      9\u001B[0m \u001B[0my_test_pred\u001B[0m \u001B[0;34m=\u001B[0m \u001B[0mmodel\u001B[0m\u001B[0;34m.\u001B[0m\u001B[0mpredict\u001B[0m\u001B[0;34m(\u001B[0m\u001B[0mX_test\u001B[0m\u001B[0;34m)\u001B[0m\u001B[0;34m\u001B[0m\u001B[0;34m\u001B[0m\u001B[0m\n\u001B[1;32m     10\u001B[0m \u001B[0mprint\u001B[0m\u001B[0;34m(\u001B[0m\u001B[0;34m'=== Stats for y_test ==='\u001B[0m\u001B[0;34m)\u001B[0m\u001B[0;34m\u001B[0m\u001B[0;34m\u001B[0m\u001B[0m\n\u001B[0;32m---> 11\u001B[0;31m \u001B[0mprint_stats\u001B[0m\u001B[0;34m(\u001B[0m\u001B[0my_test\u001B[0m\u001B[0;34m,\u001B[0m \u001B[0my_test_pred\u001B[0m\u001B[0;34m)\u001B[0m\u001B[0;34m\u001B[0m\u001B[0;34m\u001B[0m\u001B[0m\n\u001B[0m\u001B[1;32m     12\u001B[0m \u001B[0;34m\u001B[0m\u001B[0m\n\u001B[1;32m     13\u001B[0m \u001B[0my_train_pred\u001B[0m \u001B[0;34m=\u001B[0m \u001B[0mmodel\u001B[0m\u001B[0;34m.\u001B[0m\u001B[0mpredict\u001B[0m\u001B[0;34m(\u001B[0m\u001B[0mX_train\u001B[0m\u001B[0;34m)\u001B[0m\u001B[0;34m\u001B[0m\u001B[0;34m\u001B[0m\u001B[0m\n",
      "\u001B[0;32m<ipython-input-5-b8b88e4b512f>\u001B[0m in \u001B[0;36mprint_stats\u001B[0;34m(y_true, y_pred)\u001B[0m\n\u001B[1;32m      9\u001B[0m \u001B[0;34m\u001B[0m\u001B[0m\n\u001B[1;32m     10\u001B[0m \u001B[0;32mdef\u001B[0m \u001B[0mprint_stats\u001B[0m\u001B[0;34m(\u001B[0m\u001B[0my_true\u001B[0m\u001B[0;34m,\u001B[0m \u001B[0my_pred\u001B[0m\u001B[0;34m)\u001B[0m\u001B[0;34m:\u001B[0m\u001B[0;34m\u001B[0m\u001B[0;34m\u001B[0m\u001B[0m\n\u001B[0;32m---> 11\u001B[0;31m     \u001B[0mrss_\u001B[0m \u001B[0;34m=\u001B[0m \u001B[0mrss\u001B[0m\u001B[0;34m(\u001B[0m\u001B[0my_true\u001B[0m\u001B[0;34m,\u001B[0m \u001B[0my_pred\u001B[0m\u001B[0;34m)\u001B[0m\u001B[0;34m\u001B[0m\u001B[0;34m\u001B[0m\u001B[0m\n\u001B[0m\u001B[1;32m     12\u001B[0m     \u001B[0mrse\u001B[0m \u001B[0;34m=\u001B[0m \u001B[0mmath\u001B[0m\u001B[0;34m.\u001B[0m\u001B[0msqrt\u001B[0m\u001B[0;34m(\u001B[0m\u001B[0mrss_\u001B[0m\u001B[0;34m/\u001B[0m\u001B[0;34m(\u001B[0m\u001B[0my_true\u001B[0m\u001B[0;34m.\u001B[0m\u001B[0mshape\u001B[0m\u001B[0;34m[\u001B[0m\u001B[0;36m0\u001B[0m\u001B[0;34m]\u001B[0m\u001B[0;34m-\u001B[0m\u001B[0;36m2\u001B[0m\u001B[0;34m)\u001B[0m\u001B[0;34m)\u001B[0m\u001B[0;34m\u001B[0m\u001B[0;34m\u001B[0m\u001B[0m\n\u001B[1;32m     13\u001B[0m     \u001B[0mr2\u001B[0m \u001B[0;34m=\u001B[0m \u001B[0mr2_score\u001B[0m\u001B[0;34m(\u001B[0m\u001B[0my_true\u001B[0m\u001B[0;34m,\u001B[0m \u001B[0my_pred\u001B[0m\u001B[0;34m)\u001B[0m\u001B[0;34m\u001B[0m\u001B[0;34m\u001B[0m\u001B[0m\n",
      "\u001B[0;32m<ipython-input-5-b8b88e4b512f>\u001B[0m in \u001B[0;36mrss\u001B[0;34m(y_true, y_pred)\u001B[0m\n\u001B[1;32m      6\u001B[0m     \u001B[0;34m:\u001B[0m\u001B[0;32mreturn\u001B[0m\u001B[0;34m:\u001B[0m \u001B[0mRSS\u001B[0m\u001B[0;34m\u001B[0m\u001B[0;34m\u001B[0m\u001B[0m\n\u001B[1;32m      7\u001B[0m     \"\"\"\n\u001B[0;32m----> 8\u001B[0;31m     \u001B[0;32mreturn\u001B[0m \u001B[0mnp\u001B[0m\u001B[0;34m.\u001B[0m\u001B[0msum\u001B[0m\u001B[0;34m(\u001B[0m\u001B[0;34m(\u001B[0m\u001B[0my_true\u001B[0m \u001B[0;34m-\u001B[0m \u001B[0my_pred\u001B[0m\u001B[0;34m)\u001B[0m \u001B[0;34m**\u001B[0m \u001B[0;36m2\u001B[0m\u001B[0;34m,\u001B[0m \u001B[0mdtype\u001B[0m\u001B[0;34m=\u001B[0m\u001B[0mnp\u001B[0m\u001B[0;34m.\u001B[0m\u001B[0mfloat64\u001B[0m\u001B[0;34m)\u001B[0m\u001B[0;34m\u001B[0m\u001B[0;34m\u001B[0m\u001B[0m\n\u001B[0m\u001B[1;32m      9\u001B[0m \u001B[0;34m\u001B[0m\u001B[0m\n\u001B[1;32m     10\u001B[0m \u001B[0;32mdef\u001B[0m \u001B[0mprint_stats\u001B[0m\u001B[0;34m(\u001B[0m\u001B[0my_true\u001B[0m\u001B[0;34m,\u001B[0m \u001B[0my_pred\u001B[0m\u001B[0;34m)\u001B[0m\u001B[0;34m:\u001B[0m\u001B[0;34m\u001B[0m\u001B[0;34m\u001B[0m\u001B[0m\n",
      "\u001B[0;32m<__array_function__ internals>\u001B[0m in \u001B[0;36msum\u001B[0;34m(*args, **kwargs)\u001B[0m\n",
      "\u001B[0;32m~/.local/share/virtualenvs/machine-learning-msc-sNBHIkKd/lib/python3.8/site-packages/numpy/core/fromnumeric.py\u001B[0m in \u001B[0;36msum\u001B[0;34m(a, axis, dtype, out, keepdims, initial, where)\u001B[0m\n\u001B[1;32m   2245\u001B[0m         \u001B[0;32mreturn\u001B[0m \u001B[0mres\u001B[0m\u001B[0;34m\u001B[0m\u001B[0;34m\u001B[0m\u001B[0m\n\u001B[1;32m   2246\u001B[0m \u001B[0;34m\u001B[0m\u001B[0m\n\u001B[0;32m-> 2247\u001B[0;31m     return _wrapreduction(a, np.add, 'sum', axis, dtype, out, keepdims=keepdims,\n\u001B[0m\u001B[1;32m   2248\u001B[0m                           initial=initial, where=where)\n\u001B[1;32m   2249\u001B[0m \u001B[0;34m\u001B[0m\u001B[0m\n",
      "\u001B[0;32m~/.local/share/virtualenvs/machine-learning-msc-sNBHIkKd/lib/python3.8/site-packages/numpy/core/fromnumeric.py\u001B[0m in \u001B[0;36m_wrapreduction\u001B[0;34m(obj, ufunc, method, axis, dtype, out, **kwargs)\u001B[0m\n\u001B[1;32m     81\u001B[0m             \u001B[0;31m# support a dtype.\u001B[0m\u001B[0;34m\u001B[0m\u001B[0;34m\u001B[0m\u001B[0;34m\u001B[0m\u001B[0m\n\u001B[1;32m     82\u001B[0m             \u001B[0;32mif\u001B[0m \u001B[0mdtype\u001B[0m \u001B[0;32mis\u001B[0m \u001B[0;32mnot\u001B[0m \u001B[0;32mNone\u001B[0m\u001B[0;34m:\u001B[0m\u001B[0;34m\u001B[0m\u001B[0;34m\u001B[0m\u001B[0m\n\u001B[0;32m---> 83\u001B[0;31m                 \u001B[0;32mreturn\u001B[0m \u001B[0mreduction\u001B[0m\u001B[0;34m(\u001B[0m\u001B[0maxis\u001B[0m\u001B[0;34m=\u001B[0m\u001B[0maxis\u001B[0m\u001B[0;34m,\u001B[0m \u001B[0mdtype\u001B[0m\u001B[0;34m=\u001B[0m\u001B[0mdtype\u001B[0m\u001B[0;34m,\u001B[0m \u001B[0mout\u001B[0m\u001B[0;34m=\u001B[0m\u001B[0mout\u001B[0m\u001B[0;34m,\u001B[0m \u001B[0;34m**\u001B[0m\u001B[0mpasskwargs\u001B[0m\u001B[0;34m)\u001B[0m\u001B[0;34m\u001B[0m\u001B[0;34m\u001B[0m\u001B[0m\n\u001B[0m\u001B[1;32m     84\u001B[0m             \u001B[0;32melse\u001B[0m\u001B[0;34m:\u001B[0m\u001B[0;34m\u001B[0m\u001B[0;34m\u001B[0m\u001B[0m\n\u001B[1;32m     85\u001B[0m                 \u001B[0;32mreturn\u001B[0m \u001B[0mreduction\u001B[0m\u001B[0;34m(\u001B[0m\u001B[0maxis\u001B[0m\u001B[0;34m=\u001B[0m\u001B[0maxis\u001B[0m\u001B[0;34m,\u001B[0m \u001B[0mout\u001B[0m\u001B[0;34m=\u001B[0m\u001B[0mout\u001B[0m\u001B[0;34m,\u001B[0m \u001B[0;34m**\u001B[0m\u001B[0mpasskwargs\u001B[0m\u001B[0;34m)\u001B[0m\u001B[0;34m\u001B[0m\u001B[0;34m\u001B[0m\u001B[0m\n",
      "\u001B[0;32m~/.local/share/virtualenvs/machine-learning-msc-sNBHIkKd/lib/python3.8/site-packages/pandas/core/generic.py\u001B[0m in \u001B[0;36msum\u001B[0;34m(self, axis, skipna, level, numeric_only, min_count, **kwargs)\u001B[0m\n\u001B[1;32m  11069\u001B[0m             \u001B[0;34m**\u001B[0m\u001B[0mkwargs\u001B[0m\u001B[0;34m,\u001B[0m\u001B[0;34m\u001B[0m\u001B[0;34m\u001B[0m\u001B[0m\n\u001B[1;32m  11070\u001B[0m         ):\n\u001B[0;32m> 11071\u001B[0;31m             return NDFrame.sum(\n\u001B[0m\u001B[1;32m  11072\u001B[0m                 \u001B[0mself\u001B[0m\u001B[0;34m,\u001B[0m \u001B[0maxis\u001B[0m\u001B[0;34m,\u001B[0m \u001B[0mskipna\u001B[0m\u001B[0;34m,\u001B[0m \u001B[0mlevel\u001B[0m\u001B[0;34m,\u001B[0m \u001B[0mnumeric_only\u001B[0m\u001B[0;34m,\u001B[0m \u001B[0mmin_count\u001B[0m\u001B[0;34m,\u001B[0m \u001B[0;34m**\u001B[0m\u001B[0mkwargs\u001B[0m\u001B[0;34m\u001B[0m\u001B[0;34m\u001B[0m\u001B[0m\n\u001B[1;32m  11073\u001B[0m             )\n",
      "\u001B[0;32m~/.local/share/virtualenvs/machine-learning-msc-sNBHIkKd/lib/python3.8/site-packages/pandas/core/generic.py\u001B[0m in \u001B[0;36msum\u001B[0;34m(self, axis, skipna, level, numeric_only, min_count, **kwargs)\u001B[0m\n\u001B[1;32m  10789\u001B[0m         \u001B[0;34m**\u001B[0m\u001B[0mkwargs\u001B[0m\u001B[0;34m,\u001B[0m\u001B[0;34m\u001B[0m\u001B[0;34m\u001B[0m\u001B[0m\n\u001B[1;32m  10790\u001B[0m     ):\n\u001B[0;32m> 10791\u001B[0;31m         return self._min_count_stat_function(\n\u001B[0m\u001B[1;32m  10792\u001B[0m             \u001B[0;34m\"sum\"\u001B[0m\u001B[0;34m,\u001B[0m \u001B[0mnanops\u001B[0m\u001B[0;34m.\u001B[0m\u001B[0mnansum\u001B[0m\u001B[0;34m,\u001B[0m \u001B[0maxis\u001B[0m\u001B[0;34m,\u001B[0m \u001B[0mskipna\u001B[0m\u001B[0;34m,\u001B[0m \u001B[0mlevel\u001B[0m\u001B[0;34m,\u001B[0m \u001B[0mnumeric_only\u001B[0m\u001B[0;34m,\u001B[0m \u001B[0mmin_count\u001B[0m\u001B[0;34m,\u001B[0m \u001B[0;34m**\u001B[0m\u001B[0mkwargs\u001B[0m\u001B[0;34m\u001B[0m\u001B[0;34m\u001B[0m\u001B[0m\n\u001B[1;32m  10793\u001B[0m         )\n",
      "\u001B[0;32m~/.local/share/virtualenvs/machine-learning-msc-sNBHIkKd/lib/python3.8/site-packages/pandas/core/generic.py\u001B[0m in \u001B[0;36m_min_count_stat_function\u001B[0;34m(self, name, func, axis, skipna, level, numeric_only, min_count, **kwargs)\u001B[0m\n\u001B[1;32m  10758\u001B[0m     ):\n\u001B[1;32m  10759\u001B[0m         \u001B[0;32mif\u001B[0m \u001B[0mname\u001B[0m \u001B[0;34m==\u001B[0m \u001B[0;34m\"sum\"\u001B[0m\u001B[0;34m:\u001B[0m\u001B[0;34m\u001B[0m\u001B[0;34m\u001B[0m\u001B[0m\n\u001B[0;32m> 10760\u001B[0;31m             \u001B[0mnv\u001B[0m\u001B[0;34m.\u001B[0m\u001B[0mvalidate_sum\u001B[0m\u001B[0;34m(\u001B[0m\u001B[0;34m(\u001B[0m\u001B[0;34m)\u001B[0m\u001B[0;34m,\u001B[0m \u001B[0mkwargs\u001B[0m\u001B[0;34m)\u001B[0m\u001B[0;34m\u001B[0m\u001B[0;34m\u001B[0m\u001B[0m\n\u001B[0m\u001B[1;32m  10761\u001B[0m         \u001B[0;32melif\u001B[0m \u001B[0mname\u001B[0m \u001B[0;34m==\u001B[0m \u001B[0;34m\"prod\"\u001B[0m\u001B[0;34m:\u001B[0m\u001B[0;34m\u001B[0m\u001B[0;34m\u001B[0m\u001B[0m\n\u001B[1;32m  10762\u001B[0m             \u001B[0mnv\u001B[0m\u001B[0;34m.\u001B[0m\u001B[0mvalidate_prod\u001B[0m\u001B[0;34m(\u001B[0m\u001B[0;34m(\u001B[0m\u001B[0;34m)\u001B[0m\u001B[0;34m,\u001B[0m \u001B[0mkwargs\u001B[0m\u001B[0;34m)\u001B[0m\u001B[0;34m\u001B[0m\u001B[0;34m\u001B[0m\u001B[0m\n",
      "\u001B[0;32m~/.local/share/virtualenvs/machine-learning-msc-sNBHIkKd/lib/python3.8/site-packages/pandas/compat/numpy/function.py\u001B[0m in \u001B[0;36m__call__\u001B[0;34m(self, args, kwargs, fname, max_fname_arg_count, method)\u001B[0m\n\u001B[1;32m     65\u001B[0m                 \u001B[0mvalidate_kwargs\u001B[0m\u001B[0;34m(\u001B[0m\u001B[0mfname\u001B[0m\u001B[0;34m,\u001B[0m \u001B[0mkwargs\u001B[0m\u001B[0;34m,\u001B[0m \u001B[0mself\u001B[0m\u001B[0;34m.\u001B[0m\u001B[0mdefaults\u001B[0m\u001B[0;34m)\u001B[0m\u001B[0;34m\u001B[0m\u001B[0;34m\u001B[0m\u001B[0m\n\u001B[1;32m     66\u001B[0m             \u001B[0;32melif\u001B[0m \u001B[0mmethod\u001B[0m \u001B[0;34m==\u001B[0m \u001B[0;34m\"both\"\u001B[0m\u001B[0;34m:\u001B[0m\u001B[0;34m\u001B[0m\u001B[0;34m\u001B[0m\u001B[0m\n\u001B[0;32m---> 67\u001B[0;31m                 validate_args_and_kwargs(\n\u001B[0m\u001B[1;32m     68\u001B[0m                     \u001B[0mfname\u001B[0m\u001B[0;34m,\u001B[0m \u001B[0margs\u001B[0m\u001B[0;34m,\u001B[0m \u001B[0mkwargs\u001B[0m\u001B[0;34m,\u001B[0m \u001B[0mmax_fname_arg_count\u001B[0m\u001B[0;34m,\u001B[0m \u001B[0mself\u001B[0m\u001B[0;34m.\u001B[0m\u001B[0mdefaults\u001B[0m\u001B[0;34m\u001B[0m\u001B[0;34m\u001B[0m\u001B[0m\n\u001B[1;32m     69\u001B[0m                 )\n",
      "\u001B[0;32m~/.local/share/virtualenvs/machine-learning-msc-sNBHIkKd/lib/python3.8/site-packages/pandas/util/_validators.py\u001B[0m in \u001B[0;36mvalidate_args_and_kwargs\u001B[0;34m(fname, args, kwargs, max_fname_arg_count, compat_args)\u001B[0m\n\u001B[1;32m    203\u001B[0m \u001B[0;34m\u001B[0m\u001B[0m\n\u001B[1;32m    204\u001B[0m     \u001B[0mkwargs\u001B[0m\u001B[0;34m.\u001B[0m\u001B[0mupdate\u001B[0m\u001B[0;34m(\u001B[0m\u001B[0margs_dict\u001B[0m\u001B[0;34m)\u001B[0m\u001B[0;34m\u001B[0m\u001B[0;34m\u001B[0m\u001B[0m\n\u001B[0;32m--> 205\u001B[0;31m     \u001B[0mvalidate_kwargs\u001B[0m\u001B[0;34m(\u001B[0m\u001B[0mfname\u001B[0m\u001B[0;34m,\u001B[0m \u001B[0mkwargs\u001B[0m\u001B[0;34m,\u001B[0m \u001B[0mcompat_args\u001B[0m\u001B[0;34m)\u001B[0m\u001B[0;34m\u001B[0m\u001B[0;34m\u001B[0m\u001B[0m\n\u001B[0m\u001B[1;32m    206\u001B[0m \u001B[0;34m\u001B[0m\u001B[0m\n\u001B[1;32m    207\u001B[0m \u001B[0;34m\u001B[0m\u001B[0m\n",
      "\u001B[0;32m~/.local/share/virtualenvs/machine-learning-msc-sNBHIkKd/lib/python3.8/site-packages/pandas/util/_validators.py\u001B[0m in \u001B[0;36mvalidate_kwargs\u001B[0;34m(fname, kwargs, compat_args)\u001B[0m\n\u001B[1;32m    147\u001B[0m     \u001B[0mkwds\u001B[0m \u001B[0;34m=\u001B[0m \u001B[0mkwargs\u001B[0m\u001B[0;34m.\u001B[0m\u001B[0mcopy\u001B[0m\u001B[0;34m(\u001B[0m\u001B[0;34m)\u001B[0m\u001B[0;34m\u001B[0m\u001B[0;34m\u001B[0m\u001B[0m\n\u001B[1;32m    148\u001B[0m     \u001B[0m_check_for_invalid_keys\u001B[0m\u001B[0;34m(\u001B[0m\u001B[0mfname\u001B[0m\u001B[0;34m,\u001B[0m \u001B[0mkwargs\u001B[0m\u001B[0;34m,\u001B[0m \u001B[0mcompat_args\u001B[0m\u001B[0;34m)\u001B[0m\u001B[0;34m\u001B[0m\u001B[0;34m\u001B[0m\u001B[0m\n\u001B[0;32m--> 149\u001B[0;31m     \u001B[0m_check_for_default_values\u001B[0m\u001B[0;34m(\u001B[0m\u001B[0mfname\u001B[0m\u001B[0;34m,\u001B[0m \u001B[0mkwds\u001B[0m\u001B[0;34m,\u001B[0m \u001B[0mcompat_args\u001B[0m\u001B[0;34m)\u001B[0m\u001B[0;34m\u001B[0m\u001B[0;34m\u001B[0m\u001B[0m\n\u001B[0m\u001B[1;32m    150\u001B[0m \u001B[0;34m\u001B[0m\u001B[0m\n\u001B[1;32m    151\u001B[0m \u001B[0;34m\u001B[0m\u001B[0m\n",
      "\u001B[0;32m~/.local/share/virtualenvs/machine-learning-msc-sNBHIkKd/lib/python3.8/site-packages/pandas/util/_validators.py\u001B[0m in \u001B[0;36m_check_for_default_values\u001B[0;34m(fname, arg_val_dict, compat_args)\u001B[0m\n\u001B[1;32m     63\u001B[0m \u001B[0;34m\u001B[0m\u001B[0m\n\u001B[1;32m     64\u001B[0m         \u001B[0;32mif\u001B[0m \u001B[0;32mnot\u001B[0m \u001B[0mmatch\u001B[0m\u001B[0;34m:\u001B[0m\u001B[0;34m\u001B[0m\u001B[0;34m\u001B[0m\u001B[0m\n\u001B[0;32m---> 65\u001B[0;31m             raise ValueError(\n\u001B[0m\u001B[1;32m     66\u001B[0m                 \u001B[0;34mf\"the '{key}' parameter is not supported in \"\u001B[0m\u001B[0;34m\u001B[0m\u001B[0;34m\u001B[0m\u001B[0m\n\u001B[1;32m     67\u001B[0m                 \u001B[0;34mf\"the pandas implementation of {fname}()\"\u001B[0m\u001B[0;34m\u001B[0m\u001B[0;34m\u001B[0m\u001B[0m\n",
      "\u001B[0;31mValueError\u001B[0m: the 'dtype' parameter is not supported in the pandas implementation of sum()"
     ]
    }
   ],
   "source": [
    "X_train, X_test, y_train, y_test = train_test_split(boston_X_df, boston_y_df, test_size=0.1, random_state=42)\n",
    "\n",
    "model = MultipleLinearRegression()\n",
    "model.fit(X_train, y_train)\n",
    "\n",
    "print(f'Bias:\\n{model.coefs_[0]}\\n')\n",
    "print(f'Coefficients:\\n{model.coefs_[1:]}\\n')\n",
    "\n",
    "y_test_pred = model.predict(X_test)\n",
    "print('=== Stats for y_test ===')\n",
    "print_stats(y_test, y_test_pred)\n",
    "\n",
    "y_train_pred = model.predict(X_train)\n",
    "print('=== Stats for y_train ===')\n",
    "print_stats(y_train, y_train_pred)\n"
   ]
  },
  {
   "cell_type": "markdown",
   "metadata": {},
   "source": [
    "### Compare with sklearn's LinearRegression"
   ]
  },
  {
   "cell_type": "code",
   "execution_count": null,
   "metadata": {
    "pycharm": {
     "name": "#%%\n"
    }
   },
   "outputs": [],
   "source": [
    "sk_model = LinearRegression()\n",
    "sk_model.fit(X_train, y_train)\n",
    "\n",
    "print(f'Bias:\\n{sk_model.intercept_}\\n')\n",
    "print(f'Coefficients:\\n{sk_model.coef_}\\n')\n",
    "\n",
    "y_test_pred = model.predict(X_test)\n",
    "print('=== Stats for y_test ===')\n",
    "print_stats(y_test, y_test_pred)"
   ]
  }
 ],
 "metadata": {
  "kernelspec": {
   "display_name": "Python 3",
   "language": "python",
   "name": "python3"
  },
  "language_info": {
   "codemirror_mode": {
    "name": "ipython",
    "version": 3
   },
   "file_extension": ".py",
   "mimetype": "text/x-python",
   "name": "python",
   "nbconvert_exporter": "python",
   "pygments_lexer": "ipython3",
   "version": "3.8.5"
  }
 },
 "nbformat": 4,
 "nbformat_minor": 1
}
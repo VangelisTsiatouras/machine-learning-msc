{
 "cells": [
  {
   "cell_type": "markdown",
   "metadata": {
    "pycharm": {
     "name": "#%% md\n"
    }
   },
   "source": [
    "### Install Required Packages"
   ]
  },
  {
   "cell_type": "code",
   "execution_count": 1,
   "metadata": {
    "jupyter": {
     "outputs_hidden": false
    },
    "pycharm": {
     "name": "#%%\n"
    }
   },
   "outputs": [
    {
     "name": "stdout",
     "output_type": "stream",
     "text": [
      "Requirement already satisfied: numpy in /home/vangelis/.local/share/virtualenvs/machine-learning-msc-sNBHIkKd/lib/python3.8/site-packages (1.20.1)\n",
      "Requirement already satisfied: pandas in /home/vangelis/.local/share/virtualenvs/machine-learning-msc-sNBHIkKd/lib/python3.8/site-packages (1.2.3)\n",
      "Requirement already satisfied: scikit-learn in /home/vangelis/.local/share/virtualenvs/machine-learning-msc-sNBHIkKd/lib/python3.8/site-packages (0.24.1)\n",
      "Requirement already satisfied: matplotlib in /home/vangelis/.local/share/virtualenvs/machine-learning-msc-sNBHIkKd/lib/python3.8/site-packages (3.3.4)\n",
      "Requirement already satisfied: cycler>=0.10 in /home/vangelis/.local/share/virtualenvs/machine-learning-msc-sNBHIkKd/lib/python3.8/site-packages (from matplotlib) (0.10.0)\n",
      "Requirement already satisfied: python-dateutil>=2.1 in /home/vangelis/.local/share/virtualenvs/machine-learning-msc-sNBHIkKd/lib/python3.8/site-packages (from matplotlib) (2.8.1)\n",
      "Requirement already satisfied: pyparsing!=2.0.4,!=2.1.2,!=2.1.6,>=2.0.3 in /home/vangelis/.local/share/virtualenvs/machine-learning-msc-sNBHIkKd/lib/python3.8/site-packages (from matplotlib) (2.4.7)\n",
      "Requirement already satisfied: pillow>=6.2.0 in /home/vangelis/.local/share/virtualenvs/machine-learning-msc-sNBHIkKd/lib/python3.8/site-packages (from matplotlib) (8.1.2)\n",
      "Requirement already satisfied: kiwisolver>=1.0.1 in /home/vangelis/.local/share/virtualenvs/machine-learning-msc-sNBHIkKd/lib/python3.8/site-packages (from matplotlib) (1.3.1)\n",
      "Requirement already satisfied: six in /home/vangelis/.local/share/virtualenvs/machine-learning-msc-sNBHIkKd/lib/python3.8/site-packages (from cycler>=0.10->matplotlib) (1.15.0)\n",
      "Requirement already satisfied: pytz>=2017.3 in /home/vangelis/.local/share/virtualenvs/machine-learning-msc-sNBHIkKd/lib/python3.8/site-packages (from pandas) (2021.1)\n",
      "Requirement already satisfied: threadpoolctl>=2.0.0 in /home/vangelis/.local/share/virtualenvs/machine-learning-msc-sNBHIkKd/lib/python3.8/site-packages (from scikit-learn) (2.1.0)\n",
      "Requirement already satisfied: joblib>=0.11 in /home/vangelis/.local/share/virtualenvs/machine-learning-msc-sNBHIkKd/lib/python3.8/site-packages (from scikit-learn) (1.0.1)\n",
      "Requirement already satisfied: scipy>=0.19.1 in /home/vangelis/.local/share/virtualenvs/machine-learning-msc-sNBHIkKd/lib/python3.8/site-packages (from scikit-learn) (1.6.1)\n"
     ]
    }
   ],
   "source": [
    "! pip install numpy pandas scikit-learn matplotlib"
   ]
  },
  {
   "cell_type": "markdown",
   "metadata": {},
   "source": [
    "### Imports"
   ]
  },
  {
   "cell_type": "code",
   "execution_count": 2,
   "metadata": {
    "jupyter": {
     "outputs_hidden": false
    },
    "pycharm": {
     "name": "#%%\n"
    }
   },
   "outputs": [],
   "source": [
    "import pandas as pd\n",
    "import matplotlib.pyplot as plt\n",
    "import numpy as np"
   ]
  },
  {
   "cell_type": "markdown",
   "metadata": {},
   "source": [
    "### Create matrices"
   ]
  },
  {
   "cell_type": "code",
   "execution_count": 3,
   "metadata": {
    "jupyter": {
     "outputs_hidden": false
    },
    "pycharm": {
     "name": "#%%\n"
    },
    "scrolled": true
   },
   "outputs": [
    {
     "name": "stdout",
     "output_type": "stream",
     "text": [
      "X=[[-13 -38  22 -41]\n",
      " [ 25 -45  29  14]\n",
      " [-34 -49  26  21]] \n",
      "\n",
      " Y=[[-44 -25   0]\n",
      " [-30 -32  34]\n",
      " [-39 -22 -21]\n",
      " [-36   0  18]] \n",
      "\n",
      " g=[37 37 44 46] \n",
      "\n",
      " z=[ 36 -37 -41 -43]\n"
     ]
    }
   ],
   "source": [
    "# create a matrix with random values\n",
    "np.random.seed(1)\n",
    "\n",
    "X = np.random.randint(-50, 50, size=(3, 4))\n",
    "Y = np.random.randint(-50, 50, size=(4, 3))\n",
    "g = np.random.randint(-50, 50, size=(4,))\n",
    "z = np.random.randint(-50, 50, size=(4,))\n",
    "\n",
    "print(f'X={X} \\n\\n Y={Y} \\n\\n g={g} \\n\\n z={z}')"
   ]
  },
  {
   "cell_type": "markdown",
   "metadata": {
    "pycharm": {
     "name": "#%% md\n"
    }
   },
   "source": [
    "### Computations"
   ]
  },
  {
   "cell_type": "code",
   "execution_count": 4,
   "metadata": {
    "pycharm": {
     "name": "#%%\n"
    }
   },
   "outputs": [
    {
     "name": "stdout",
     "output_type": "stream",
     "text": [
      "Inner product of g and z: \n",
      "-3819 \n",
      "\n",
      "Inner product of g and g<Transpose>z :\n",
      "[-141303 -141303 -168036 -175674] \n",
      "\n",
      "Matrix-vector product Xg: \n",
      "[-2805  1180  -961] \n",
      "\n",
      "Dot product XY: \n",
      "[[ 2330  1057 -2492]\n",
      " [-1385   177 -1887]\n",
      " [ 1196  1846 -1834]] \n",
      "\n",
      "Norm X: 110.17713011328621\n",
      "Norm Y: 98.52410872471773\n",
      "Norm g: 82.40145629781065\n",
      "Norm z: 78.70832230456955\n",
      "\n"
     ]
    }
   ],
   "source": [
    "# Inner product of g and z\n",
    "inner_prod_g_z = np.inner(g, z)\n",
    "print(f'Inner product of g and z: \\n{inner_prod_g_z} \\n')\n",
    "\n",
    "# Inner product of g and g<Transpose>z\n",
    "g_transpose = np.array([g]).T\n",
    "# print(g_transpose)\n",
    "\n",
    "gTz = np.multiply(g_transpose, z)\n",
    "# print(gTz)\n",
    "\n",
    "inner_prod_g_gTz = np.inner(g, gTz)\n",
    "print(f'Inner product of g and g<Transpose>z :\\n{inner_prod_g_gTz} \\n')\n",
    "\n",
    "# Matrix-vector product Xg\n",
    "vector_prod = np.matmul(X, g)\n",
    "print(f'Matrix-vector product Xg: \\n{vector_prod} \\n')\n",
    "\n",
    "# Dot product XY\n",
    "dot_prod = np.dot(X, Y)\n",
    "print(f'Dot product XY: \\n{dot_prod} \\n')\n",
    "\n",
    "# L2/Frobenius norms of the vectors and matrices.\n",
    "X_norm = np.linalg.norm(X)\n",
    "Y_norm = np.linalg.norm(Y)\n",
    "g_norm = np.linalg.norm(g)\n",
    "z_norm = np.linalg.norm(z)\n",
    "\n",
    "print(f'Norm X: {X_norm}\\nNorm Y: {Y_norm}\\nNorm g: {g_norm}\\nNorm z: {z_norm}\\n')"
   ]
  }
 ],
 "metadata": {
  "kernelspec": {
   "display_name": "Python 3",
   "language": "python",
   "name": "python3"
  },
  "language_info": {
   "codemirror_mode": {
    "name": "ipython",
    "version": 3
   },
   "file_extension": ".py",
   "mimetype": "text/x-python",
   "name": "python",
   "nbconvert_exporter": "python",
   "pygments_lexer": "ipython3",
   "version": "3.8.5"
  }
 },
 "nbformat": 4,
 "nbformat_minor": 4
}
